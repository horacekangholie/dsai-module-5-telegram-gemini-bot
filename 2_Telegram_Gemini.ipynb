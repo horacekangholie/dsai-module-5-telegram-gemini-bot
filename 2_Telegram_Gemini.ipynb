{
  "nbformat": 4,
  "nbformat_minor": 0,
  "metadata": {
    "colab": {
      "provenance": [],
      "authorship_tag": "ABX9TyMCcSAulhvK//zVQmWJ+9XC",
      "include_colab_link": true
    },
    "kernelspec": {
      "name": "python3",
      "display_name": "Python 3"
    },
    "language_info": {
      "name": "python"
    }
  },
  "cells": [
    {
      "cell_type": "markdown",
      "metadata": {
        "id": "view-in-github",
        "colab_type": "text"
      },
      "source": [
        "<a href=\"https://colab.research.google.com/github/horacekangholie/dsai-module-5-telegram-gemini-bot/blob/main/2_Telegram_Gemini.ipynb\" target=\"_parent\"><img src=\"https://colab.research.google.com/assets/colab-badge.svg\" alt=\"Open In Colab\"/></a>"
      ]
    },
    {
      "cell_type": "code",
      "source": [
        "# Prerequisites\n",
        "# !pip install google-generativeai\n",
        "\n",
        "import os\n",
        "import requests, time\n",
        "import google.generativeai as genai\n",
        "\n",
        "# ——— Configurable Welcome Message ———\n",
        "def get_welcome_message() -> str:\n",
        "    \"\"\" For future fetching message from database.\"\"\"\n",
        "    return \"👋 Hi there! Welcome to my bot. How can I help you today?\"\n",
        "\n",
        "# Load required secret keys\n",
        "def retrieve_key(service_name: str) -> str:\n",
        "    try:\n",
        "        # Attempt to retrieve from Colab Secrets\n",
        "        from google.colab import userdata\n",
        "        key = userdata.get(service_name)\n",
        "        env_var = service_name.upper()\n",
        "    except ImportError:\n",
        "        # Fallback to environment variables\n",
        "        env_map = {\n",
        "            'telegram': 'TELEGRAM_TOKEN',\n",
        "            'gemini': 'GEMINI_KEY'\n",
        "        }\n",
        "        env_var = env_map.get(service_name, service_name.upper())\n",
        "        key = os.getenv(env_var)\n",
        "\n",
        "    if not key:\n",
        "        raise ValueError(f\"ERROR: Missing {env_var} key\")\n",
        "\n",
        "    return key\n",
        "\n",
        "# Assign key values\n",
        "TELEGRAM_TOKEN = retrieve_key('telegram')\n",
        "GEMINI_KEY = retrieve_key('gemini')\n",
        "\n",
        "# Configure Gemini\n",
        "genai.configure(api_key=GEMINI_KEY)\n",
        "model = genai.GenerativeModel(\"gemini-2.0-flash\")\n",
        "\n",
        "# Base URL for Telegram Bot API\n",
        "BASE_URL = f\"https://api.telegram.org/bot{TELEGRAM_TOKEN}/\"\n",
        "\n",
        "# Get update message\n",
        "def get_updates(offset=None, timeout=30):\n",
        "    params = {\"timeout\": timeout}\n",
        "    if offset:\n",
        "        params[\"offset\"] = offset\n",
        "    resp = requests.get(BASE_URL + 'getUpdates', params=params)\n",
        "    return resp.json().get('result', [])\n",
        "\n",
        "# Reply message\n",
        "def send_message(chat_id, text):\n",
        "    params = {\"chat_id\": chat_id, \"text\": text}\n",
        "    requests.get(BASE_URL + 'sendMessage', params=params)\n",
        "\n",
        "# Main\n",
        "if __name__ == '__main__':\n",
        "    print(\"Bot started. Press Ctrl+C to stop.\")\n",
        "    offset = None\n",
        "    try:\n",
        "        while True:\n",
        "            updates = get_updates(offset)\n",
        "            for update in updates:\n",
        "                offset = update['update_id'] + 1\n",
        "                message = update.get('message')\n",
        "                if not message or 'text' not in message:\n",
        "                    continue\n",
        "\n",
        "                chat_id = message['chat']['id']\n",
        "                text    = message['text'].strip()\n",
        "\n",
        "                # Handle /start with your custom welcome\n",
        "                if text.lower() == '/start':\n",
        "                    send_message(chat_id, get_welcome_message())\n",
        "                    continue  # ← back to polling\n",
        "\n",
        "                # Handle 'quit'\n",
        "                if text.lower() == 'quit':\n",
        "                    send_message(chat_id, \"Alright, feel free to ask me question anytime.\")\n",
        "                    continue  # ← back to polling\n",
        "\n",
        "                # Otherwise, generate & send a Gemini reply\n",
        "                try:\n",
        "                    response = model.generate_content(text)\n",
        "                    reply    = response.text\n",
        "                except Exception as e:\n",
        "                    reply = f\"Error fetching from Gemini: {e}\"\n",
        "\n",
        "                send_message(chat_id, reply)\n",
        "\n",
        "            time.sleep(1)\n",
        "    except KeyboardInterrupt:\n",
        "        print(\"Bot stopped by user.\")"
      ],
      "metadata": {
        "colab": {
          "base_uri": "https://localhost:8080/"
        },
        "id": "afHbhwiX2nRD",
        "outputId": "000a5bca-bebd-4472-928b-b89ef90d23e0"
      },
      "execution_count": null,
      "outputs": [
        {
          "output_type": "stream",
          "name": "stdout",
          "text": [
            "Bot started. Press Ctrl+C to stop.\n"
          ]
        }
      ]
    }
  ]
}